{
 "cells": [
  {
   "cell_type": "code",
   "execution_count": 53,
   "metadata": {},
   "outputs": [],
   "source": [
    "import pandas as pd\n",
    "import numpy as np\n",
    "import re"
   ]
  },
  {
   "attachments": {},
   "cell_type": "markdown",
   "metadata": {},
   "source": [
    "Creo la funzione che mi guarda il numero di variabili in un file .dat, se nella prima riga ci sono i nomi partirò dalla seconda."
   ]
  },
  {
   "cell_type": "code",
   "execution_count": 54,
   "metadata": {},
   "outputs": [],
   "source": [
    "def get_second_row_length(file_path):\n",
    "    \"\"\"\n",
    "    Read the second row of a .dat file using read_csv() and return its length.\n",
    "\n",
    "    Args:\n",
    "        file_path (str): The path to the .dat file.\n",
    "\n",
    "    Returns:\n",
    "        int: The length of the second row.\n",
    "    \"\"\"\n",
    "\n",
    "    # Read the .dat file using read_csv() and skip the first row\n",
    "    data = pd.read_csv(file_path, sep='\\s+', header=None, skiprows=[0])\n",
    "\n",
    "    # Get the second row and calculate its length\n",
    "    second_row_length = len(data.iloc[0])\n",
    "\n",
    "    return second_row_length"
   ]
  },
  {
   "attachments": {},
   "cell_type": "markdown",
   "metadata": {},
   "source": [
    "Creo la funzione che dato l'array con i nomi delle variabili mi controlla che siano tutte nominate e nel caso gli dà un numero come nome."
   ]
  },
  {
   "cell_type": "code",
   "execution_count": 55,
   "metadata": {},
   "outputs": [],
   "source": [
    "def check_and_append_array_length(file_path, name_array):\n",
    "    \"\"\"\n",
    "    Compare the length of an array with the length of the second row of a .dat file.\n",
    "    If the lengths are unequal, append the number of columns from the second row to the array.\n",
    "\n",
    "    Args:\n",
    "        file_path (str): The path to the .dat file.\n",
    "        data_array (list): The array to be checked and modified.\n",
    "\n",
    "    Returns:\n",
    "        list: The modified array.\n",
    "    \"\"\"\n",
    "\n",
    "    # Read the .dat file and get the length of the second row\n",
    "    second_row_length = get_second_row_length(file_path)\n",
    "\n",
    "    # Compare the lengths of the array and the second row\n",
    "    if len(name_array) < second_row_length:\n",
    "        num_columns_to_append = second_row_length - len(name_array)\n",
    "        appended_columns = [f\"Var_{i}\" for i in range(num_columns_to_append)]\n",
    "        name_array.extend(appended_columns)\n",
    "\n",
    "    return name_array"
   ]
  },
  {
   "attachments": {},
   "cell_type": "markdown",
   "metadata": {},
   "source": [
    "Creo la funzione che mi genera i nomi delle varie variabili del dataset leggendo il file, il problema era il diverso layout dei nomi e dei dati."
   ]
  },
  {
   "cell_type": "code",
   "execution_count": 56,
   "metadata": {},
   "outputs": [],
   "source": [
    "def names_of_variables(file_path):\n",
    "    \"\"\"\n",
    "    Read the first row of a file, split it into an array using a minimum double space as delimiter,\n",
    "    and replace spaces with underscores in each element of the array.\n",
    "\n",
    "    Args:\n",
    "        file_path (str): The path to the file.\n",
    "\n",
    "    Returns:\n",
    "        list: The modified array of column names.\n",
    "    \"\"\"\n",
    "\n",
    "    # Read the first row of the file\n",
    "    with open(file_path, 'r') as file:\n",
    "        first_row = file.readline().strip()\n",
    "\n",
    "    # Convert the string into an array using a minimum double space as delimiter\n",
    "    output_array = re.split(r'\\s{2,}', first_row)\n",
    "\n",
    "    # Replace spaces with underscores in each element of the array using a list comprehension\n",
    "    output_array = [element.replace(' ', '_') for element in output_array]\n",
    "    \n",
    "    #Check if all the variables are named and else give a \"Var_i\" name to each one\n",
    "    output_array=check_and_append_array_length(file_path,output_array)\n",
    "\n",
    "    return output_array"
   ]
  },
  {
   "attachments": {},
   "cell_type": "markdown",
   "metadata": {},
   "source": [
    "Creo la funzione di lettura del file che mi genera il dataset."
   ]
  },
  {
   "cell_type": "code",
   "execution_count": 57,
   "metadata": {},
   "outputs": [],
   "source": [
    "def read_data(file_path):\n",
    "    \"\"\"\n",
    "    Read a CSV file, skip the first line, and assign specific column names.\n",
    "\n",
    "    Args:\n",
    "        file_path (str): The path to the CSV file.\n",
    "\n",
    "    Returns:\n",
    "        pandas.DataFrame: The DataFrame containing the data.\n",
    "    \"\"\"\n",
    "\n",
    "    \n",
    "    # Read the CSV file skipping the first line and using specified column names\n",
    "    data = pd.read_csv(file_path, delimiter='\\s+', header=None, skiprows=1)\n",
    "    data.columns=names_of_variables(file_path)\n",
    "\n",
    "    return data"
   ]
  },
  {
   "cell_type": "code",
   "execution_count": null,
   "metadata": {},
   "outputs": [],
   "source": [
    "\"\"\"\n",
    "folder_path=\"C:/Users/fturi/Desktop/Test/tools-driver-out/M0.76_Z0.00135_He0.2499_ML1.90_55555555_AS09a0\"\n",
    "file_name=\"OUT.dat\"\n",
    "file_path=folder_path + '/' +file_name\n",
    "\n",
    "\n",
    "data = read_data(file_path)\"\"\""
   ]
  }
 ],
 "metadata": {
  "kernelspec": {
   "display_name": "Python 3",
   "language": "python",
   "name": "python3"
  },
  "language_info": {
   "codemirror_mode": {
    "name": "ipython",
    "version": 3
   },
   "file_extension": ".py",
   "mimetype": "text/x-python",
   "name": "python",
   "nbconvert_exporter": "python",
   "pygments_lexer": "ipython3",
   "version": "3.11.3"
  },
  "orig_nbformat": 4
 },
 "nbformat": 4,
 "nbformat_minor": 2
}
