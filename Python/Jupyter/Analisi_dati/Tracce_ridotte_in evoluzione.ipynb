{
 "cells": [
  {
   "attachments": {},
   "cell_type": "markdown",
   "metadata": {},
   "source": [
    "Seleziono la cartella per le traccie ridotte tramite widget"
   ]
  },
  {
   "cell_type": "code",
   "execution_count": 1,
   "metadata": {},
   "outputs": [
    {
     "data": {
      "application/vnd.jupyter.widget-view+json": {
       "model_id": "eb2b3de69e6d41da85b99cd50062e115",
       "version_major": 2,
       "version_minor": 0
      },
      "text/plain": [
       "Dropdown(description='Subfolder:', options=('RID_Z0.00135_He0.2499_ML1.90_55555555_AS09a0.DAT', 'RID_Z0.00145_…"
      ]
     },
     "metadata": {},
     "output_type": "display_data"
    },
    {
     "data": {
      "application/vnd.jupyter.widget-view+json": {
       "model_id": "769612828cc44b84b556861c4f3506a7",
       "version_major": 2,
       "version_minor": 0
      },
      "text/plain": [
       "Button(description='Confirm', style=ButtonStyle())"
      ]
     },
     "metadata": {},
     "output_type": "display_data"
    },
    {
     "name": "stdout",
     "output_type": "stream",
     "text": [
      "Please select a subfolder before confirming.\n",
      "Please select a subfolder before confirming.\n",
      "Please select a subfolder before confirming.\n"
     ]
    },
    {
     "data": {
      "text/plain": [
       "'C:/Users/fturi/Desktop/Test/tools-isocrone-out\\\\RID_Z0.00155_He0.2503_ML1.90_55555555_AS09a0.DAT'"
      ]
     },
     "metadata": {},
     "output_type": "display_data"
    },
    {
     "data": {
      "text/plain": [
       "'C:/Users/fturi/Desktop/Test/tools-isocrone-out\\\\RID_Z0.00135_He0.2499_ML1.90_55555555_AS09a0.DAT'"
      ]
     },
     "metadata": {},
     "output_type": "display_data"
    },
    {
     "data": {
      "text/plain": [
       "'C:/Users/fturi/Desktop/Test/tools-isocrone-out\\\\RID_Z0.00135_He0.2499_ML1.90_55555555_AS09a0.DAT'"
      ]
     },
     "metadata": {},
     "output_type": "display_data"
    }
   ],
   "source": [
    "import os\n",
    "import pandas as pd\n",
    "import ipywidgets as widgets\n",
    "from IPython.display import display\n",
    "\n",
    "# Set the path to your folder\n",
    "folder_path = \"C:/Users/fturi/Desktop/Test/tools-isocrone-out\"\n",
    "\n",
    "# Get a list of all the subfolders starting with \"RID\"\n",
    "subfolders = [f for f in os.listdir(folder_path) if os.path.isdir(os.path.join(folder_path, f)) and f.startswith(\"RID\")]\n",
    "\n",
    "# Create a dropdown widget to choose the subfolder\n",
    "subfolder_dropdown = widgets.Dropdown(options=subfolders, description='Subfolder:')\n",
    "confirm_button = widgets.Button(description='Confirm')\n",
    "\n",
    "# Create a variable to store the selected subfolder path\n",
    "selected_subfolder_path = ''\n",
    "\n",
    "# Function to handle selection of subfolder\n",
    "def select_subfolder(change):\n",
    "    global selected_subfolder_path\n",
    "    selected_subfolder_path = os.path.join(folder_path, change.new)\n",
    "\n",
    "def confirm_selection(button):\n",
    "    if selected_subfolder_path:\n",
    "        display(selected_subfolder_path)\n",
    "    else:\n",
    "        print(\"Please select a subfolder before confirming.\")\n",
    "\n",
    "subfolder_dropdown.observe(select_subfolder, 'value')\n",
    "confirm_button.on_click(confirm_selection)\n",
    "\n",
    "# Display the dropdown widget and confirm button\n",
    "display(subfolder_dropdown, confirm_button)"
   ]
  },
  {
   "attachments": {},
   "cell_type": "markdown",
   "metadata": {},
   "source": [
    "Carico i dati, va rilanciato dopo la selezione delle cartelle"
   ]
  },
  {
   "cell_type": "code",
   "execution_count": 4,
   "metadata": {},
   "outputs": [
    {
     "name": "stdout",
     "output_type": "stream",
     "text": [
      "C:/Users/fturi/Desktop/Test/tools-isocrone-out/RID_Z0.00135_He0.2499_ML1.90_55555555_AS09a0.DAT\n"
     ]
    }
   ],
   "source": [
    "# Create a dictionary to store the dataframes\n",
    "dataframes = {}\n",
    "subfolder_path=selected_subfolder_path.replace(\"\\\\\",\"/\")\n",
    "\n",
    "\n",
    "print(subfolder_path)\n",
    "for file_name in os.listdir(subfolder_path):\n",
    "    \n",
    "    if file_name.startswith(\"AOUT_M\"):\n",
    "        \n",
    "        #Select the file path for each file.dat in the folder\n",
    "        file_path = os.path.join(subfolder_path, file_name)\n",
    "        file_path=file_path.replace(\"\\\\\",\"/\")\n",
    "    \n",
    "        # Load the data into a dataframe\n",
    "        df = pd.read_csv(file_path,comment='#',delimiter='\\s+', header=None, engine='python')  # Modify the read_csv parameters as per your data format\n",
    "        \n",
    "       # Extract the number from the filename\n",
    "        file_number = float(file_name.split(\"_\")[1][1:])  # Extract the number after \"M\" and convert to float\n",
    "        \n",
    "        # Format the dataframe name as \"Mass_xxx\"\n",
    "        dataframe_name = f\"Mass_{file_number:.2f}\"\n",
    "        \n",
    "        # Store the dataframe in the dictionary with the formatted name\n",
    "        dataframes[dataframe_name] = df"
   ]
  }
 ],
 "metadata": {
  "kernelspec": {
   "display_name": "Python 3",
   "language": "python",
   "name": "python3"
  },
  "language_info": {
   "codemirror_mode": {
    "name": "ipython",
    "version": 3
   },
   "file_extension": ".py",
   "mimetype": "text/x-python",
   "name": "python",
   "nbconvert_exporter": "python",
   "pygments_lexer": "ipython3",
   "version": "3.11.3"
  },
  "orig_nbformat": 4
 },
 "nbformat": 4,
 "nbformat_minor": 2
}
