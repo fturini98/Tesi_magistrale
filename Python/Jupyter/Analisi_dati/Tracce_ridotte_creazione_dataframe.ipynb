{
 "cells": [
  {
   "attachments": {},
   "cell_type": "markdown",
   "metadata": {},
   "source": [
    "Seleziono la cartella per le traccie ridotte tramite widget"
   ]
  },
  {
   "cell_type": "code",
   "execution_count": 1,
   "metadata": {},
   "outputs": [
    {
     "data": {
      "application/vnd.jupyter.widget-view+json": {
       "model_id": "5339d9cad85047f8a1453b235546c7bb",
       "version_major": 2,
       "version_minor": 0
      },
      "text/plain": [
       "Dropdown(description='Subfolder:', options=('RID_Z0.00135_He0.2499_ML1.90_55555555_AS09a0.DAT', 'RID_Z0.00145_…"
      ]
     },
     "metadata": {},
     "output_type": "display_data"
    },
    {
     "data": {
      "application/vnd.jupyter.widget-view+json": {
       "model_id": "11e3e9859d3f424f8197c985c3d0df90",
       "version_major": 2,
       "version_minor": 0
      },
      "text/plain": [
       "Button(description='Confirm', style=ButtonStyle())"
      ]
     },
     "metadata": {},
     "output_type": "display_data"
    },
    {
     "data": {
      "text/plain": [
       "'C:/Users/fturi/Desktop/Dati/Test/tools-isocrone-out\\\\RID_Z0.00145_He0.2501_ML1.90_55555555_AS09a0.DAT'"
      ]
     },
     "metadata": {},
     "output_type": "display_data"
    }
   ],
   "source": [
    "import os\n",
    "import pandas as pd\n",
    "import ipywidgets as widgets\n",
    "from IPython.display import display\n",
    "\n",
    "# Set the path to your folder\n",
    "folder_path = \"C:/Users/fturi/Desktop/Dati/Test/tools-isocrone-out\"\n",
    "\n",
    "# Get a list of all the subfolders starting with \"RID\"\n",
    "subfolders = [f for f in os.listdir(folder_path) if os.path.isdir(os.path.join(folder_path, f)) and f.startswith(\"RID\")]\n",
    "\n",
    "# Create a dropdown widget to choose the subfolder\n",
    "subfolder_dropdown = widgets.Dropdown(options=subfolders, description='Subfolder:')\n",
    "confirm_button = widgets.Button(description='Confirm')\n",
    "\n",
    "# Create a variable to store the selected subfolder path\n",
    "selected_subfolder_path = ''\n",
    "\n",
    "# Function to handle selection of subfolder\n",
    "def select_subfolder(change):\n",
    "    global selected_subfolder_path\n",
    "    selected_subfolder_path = os.path.join(folder_path, change.new)\n",
    "\n",
    "def confirm_selection(button):\n",
    "    if selected_subfolder_path:\n",
    "        display(selected_subfolder_path)\n",
    "    else:\n",
    "        print(\"Please select a subfolder before confirming.\")\n",
    "\n",
    "subfolder_dropdown.observe(select_subfolder, 'value')\n",
    "confirm_button.on_click(confirm_selection)\n",
    "\n",
    "# Display the dropdown widget and confirm button\n",
    "display(subfolder_dropdown, confirm_button)\n",
    "selected_subfolder_path=selected_subfolder_path.replace(\"\\\\\",\"/\")"
   ]
  },
  {
   "attachments": {},
   "cell_type": "markdown",
   "metadata": {},
   "source": [
    "Carico i dati su un dizionario contenente i vari dataframe(le key di accesso sono nominate come es\"Mass_0.76\"). va rilanciato dopo la selezione delle cartelle"
   ]
  },
  {
   "cell_type": "code",
   "execution_count": 2,
   "metadata": {},
   "outputs": [
    {
     "name": "stdout",
     "output_type": "stream",
     "text": [
      "Le tracce ridotte usate vengono dal file: C:/Users/fturi/Desktop/Dati/Test/tools-isocrone-out\\RID_Z0.00145_He0.2501_ML1.90_55555555_AS09a0.DAT\n",
      "I valori iniziali da cui parte l'evoluzione per il seguente dataset, sono: Metallicità( 0.00145 ),He( 0.2501 ),Mixing lenght( 1.90 )\n",
      "Le masse a disposizione sono: ['Mass_0.76', 'Mass_0.77', 'Mass_0.78', 'Mass_0.79', 'Mass_0.80', 'Mass_0.81', 'Mass_0.82', 'Mass_0.83', 'Mass_0.84', 'Mass_0.85', 'Mass_0.86', 'Mass_0.87', 'Mass_0.88', 'Mass_0.89', 'Mass_0.90', 'Mass_0.91', 'Mass_0.92', 'Mass_0.93', 'Mass_0.94', 'Mass_0.95', 'Mass_0.96', 'Mass_0.97', 'Mass_0.98', 'Mass_0.99', 'Mass_1.00', 'Mass_1.02', 'Mass_1.04', 'Mass_1.06', 'Mass_1.08', 'Mass_1.10']\n",
      "le variabili sono: ['MOD', 'Time', 'LOG_L/Lo', 'LOG_TE_(K)', 'M', '[Fe/H]', 'R', 'logg', 'Dni', 'nimax']\n"
     ]
    }
   ],
   "source": [
    "\n",
    "\n",
    "def read_data_tracce_ridotte(file_path):\n",
    "    \"\"\"\n",
    "    Reads data from a file with reduce tarces and returns a dataframe with specified ['MOD', 'Time', 'LOG_L/Lo', 'LOG_TE_(K)', 'M', '[Fe/H]', 'R', 'logg', 'Dni', 'nimax'] .\n",
    "\n",
    "    Args:\n",
    "        file_path (str): The path to the file containing the data.\n",
    "\n",
    "    Returns:\n",
    "        pandas.DataFrame: A dataframe containing the data with assigned variable/column names.\n",
    "    \"\"\"\n",
    "    # Define the variable/column names\n",
    "    variable_names = ['MOD', 'Time', 'LOG_L/Lo', 'LOG_TE_(K)', 'M', '[Fe/H]', 'R', 'logg', 'Dni', 'nimax']\n",
    "    \n",
    "    # Read the data from the file into a dataframe\n",
    "    df = pd.read_csv(file_path, comment='#', delimiter='\\s+', header=None, engine='python')\n",
    "    \n",
    "    # Assign the variable/column names to the dataframe columns\n",
    "    df.columns = variable_names\n",
    "    \n",
    "    # Return the dataframe\n",
    "    return df\n",
    "\n",
    "\n",
    "def extract_metallicity(file_path):\n",
    "    \"\"\"\n",
    "    Reads from the file path the value of metallicity (Z), the value of He, the mixing length (ML), and the code.\n",
    "\n",
    "    Args:\n",
    "        file_path (str): The path to the file containing the data.\n",
    "\n",
    "    Returns:\n",
    "        An array [z_value, he_value, ml_value, code_value] with the extracted values.\n",
    "    \"\"\"\n",
    "    # Split the file path by directory separators to extract the file name\n",
    "    file_name = file_path.split(\"/\")[-1]\n",
    "\n",
    "    # Remove the \".DAT\" extension from the file name\n",
    "    file_name = file_name.replace(\".DAT\", \"\")\n",
    "\n",
    "    # Split the file name by \"_\" to extract the individual values\n",
    "    values = file_name.split(\"_\")\n",
    "\n",
    "    # Extract the metallicity (Z), He, mixing length (ML), and code values\n",
    "    z_value = values[1][1:]\n",
    "    he_value = values[2][2:]\n",
    "    ml_value = values[3][2:]\n",
    "    code_value = values[-1]\n",
    "\n",
    "    return [z_value, he_value, ml_value, code_value]\n",
    "\n",
    "#Adjust the format of the subfolder_path\n",
    "subfolder_path=selected_subfolder_path\n",
    "\n",
    "\n",
    "# Create a dictionary to store the dataframes\n",
    "dataframes = {}\n",
    "\n",
    "for file_name in os.listdir(subfolder_path):\n",
    "    \n",
    "    if file_name.startswith(\"AOUT_M\"):\n",
    "        \n",
    "        #Select the file path for each file.dat in the folder\n",
    "        file_path = os.path.join(subfolder_path, file_name)\n",
    "        file_path=file_path.replace(\"\\\\\",\"/\")\n",
    "    \n",
    "        # Load the data into a dataframe\n",
    "        df =read_data_tracce_ridotte(file_path)\n",
    "        \n",
    "       # Extract the number from the filename\n",
    "        file_number = float(file_name.split(\"_\")[1][1:])  # Extract the number after \"M\" and convert to float\n",
    "        \n",
    "        # Format the dataframe name as \"Mass_xxx\"\n",
    "        dataframe_name = f\"Mass_{file_number:.2f}\"\n",
    "        \n",
    "        # Store the dataframe in the dictionary with the formatted name\n",
    "        dataframes[dataframe_name] = df\n",
    "\n",
    "#Delate the df of support\n",
    "del df\n",
    "\n",
    "#Print what i have in the dictionary\n",
    "print(\"Le tracce ridotte usate vengono dal file:\",subfolder_path)\n",
    "dataframe_names = list(dataframes.keys())\n",
    "value_of_start=extract_metallicity(subfolder_path)\n",
    "print(\"I valori iniziali da cui parte l'evoluzione per il seguente dataset, sono: Metallicità(\",value_of_start[0],\"),He(\",value_of_start[1],\"),Mixing lenght(\",value_of_start[2],\")\")\n",
    "print(\"Le masse a disposizione sono:\",dataframe_names)\n",
    "print(\"le variabili sono:\", list(dataframes[dataframe_names[0]].columns))    "
   ]
  },
  {
   "attachments": {},
   "cell_type": "markdown",
   "metadata": {},
   "source": [
    "Ora ho a disposizione il dizionario dataframes, dal quale è possibile richiamare i singoli dataframe per singola massa, ad esempio per richiamare la massa 0.76 si fa df_0.76=dataframes[\"Mass_0.76\"], se si vuole ad esempio l'array della luminosità si fa lum=dataframes[\"Mass_0.76\"][\"LOG_L/Lo\"]."
   ]
  }
 ],
 "metadata": {
  "kernelspec": {
   "display_name": "Python 3",
   "language": "python",
   "name": "python3"
  },
  "language_info": {
   "codemirror_mode": {
    "name": "ipython",
    "version": 3
   },
   "file_extension": ".py",
   "mimetype": "text/x-python",
   "name": "python",
   "nbconvert_exporter": "python",
   "pygments_lexer": "ipython3",
   "version": "3.11.3"
  },
  "orig_nbformat": 4
 },
 "nbformat": 4,
 "nbformat_minor": 2
}
