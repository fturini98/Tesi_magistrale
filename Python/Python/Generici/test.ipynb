{
 "cells": [
  {
   "cell_type": "code",
   "execution_count": 2,
   "metadata": {},
   "outputs": [],
   "source": [
    "from build_tree import *\n"
   ]
  },
  {
   "cell_type": "code",
   "execution_count": 3,
   "metadata": {},
   "outputs": [
    {
     "name": "stdout",
     "output_type": "stream",
     "text": [
      "\u001b[31mISO folders are not implemented. Excluding: ISO_Z0.00135_He0.2499_ML1.90_55555555_AS09a0.DAT \u001b[0m\n"
     ]
    }
   ],
   "source": [
    "\n",
    "tree = gen_tree(file_paths, folder_paths)\n"
   ]
  },
  {
   "attachments": {},
   "cell_type": "markdown",
   "metadata": {},
   "source": []
  },
  {
   "cell_type": "code",
   "execution_count": 4,
   "metadata": {},
   "outputs": [],
   "source": [
    "jupyter_browse_tree(tree)"
   ]
  },
  {
   "cell_type": "code",
   "execution_count": 6,
   "metadata": {},
   "outputs": [],
   "source": [
    "jupyter_browse_tree(tree)"
   ]
  },
  {
   "attachments": {},
   "cell_type": "markdown",
   "metadata": {},
   "source": []
  },
  {
   "cell_type": "code",
   "execution_count": 7,
   "metadata": {},
   "outputs": [
    {
     "name": "stdout",
     "output_type": "stream",
     "text": [
      "0        2.620025\n",
      "1        3.017965\n",
      "2        3.067183\n",
      "3        3.131908\n",
      "4        3.152966\n",
      "          ...    \n",
      "6415    10.204811\n",
      "6416    10.204811\n",
      "6417    10.204811\n",
      "6418    10.204811\n",
      "6419    10.204811\n",
      "Name: LOG(T), Length: 6420, dtype: float64\n",
      "micio\n",
      "0       4.831638\n",
      "1       7.254386\n",
      "2       7.296021\n",
      "3       7.334010\n",
      "4       7.368942\n",
      "         ...    \n",
      "966    10.204744\n",
      "967    10.204761\n",
      "968    10.204778\n",
      "969    10.204795\n",
      "970    10.204811\n",
      "Name: Time, Length: 971, dtype: float64\n"
     ]
    }
   ],
   "source": [
    "test=tree[\"Test\"][\"tools-driver-out\"][\"RAW\"][\"Z0.00135_He0.2499_ML1.90\"][\"M0.76\"][\"LOG(T)\"]\n",
    "test2=tree[\"Test\"][\"tools-isocrone-out\"][\"RID\"][\"Z0.00135_He0.2499_ML1.90\"][\"M0.76\"][\"Time\"]\n",
    "print(test)\n",
    "print(\"micio\")\n",
    "print(test2)\n"
   ]
  }
 ],
 "metadata": {
  "kernelspec": {
   "display_name": "Python 3",
   "language": "python",
   "name": "python3"
  },
  "language_info": {
   "codemirror_mode": {
    "name": "ipython",
    "version": 3
   },
   "file_extension": ".py",
   "mimetype": "text/x-python",
   "name": "python",
   "nbconvert_exporter": "python",
   "pygments_lexer": "ipython3",
   "version": "3.11.3"
  },
  "orig_nbformat": 4
 },
 "nbformat": 4,
 "nbformat_minor": 2
}
