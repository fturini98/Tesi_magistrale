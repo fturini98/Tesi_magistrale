{
 "cells": [
  {
   "cell_type": "code",
   "execution_count": null,
   "metadata": {},
   "outputs": [],
   "source": [
    "from build_tree import *\n"
   ]
  },
  {
   "cell_type": "code",
   "execution_count": 3,
   "metadata": {},
   "outputs": [
    {
     "name": "stdout",
     "output_type": "stream",
     "text": [
      "Tree not saved.\n"
     ]
    }
   ],
   "source": [
    "\n",
    "tree = load_tree_from_file(data_folder_path,\"tree_test\")\n",
    "save_tree_with_shell(tree,data_folder_path)\n"
   ]
  },
  {
   "attachments": {},
   "cell_type": "markdown",
   "metadata": {},
   "source": []
  },
  {
   "cell_type": "code",
   "execution_count": 5,
   "metadata": {},
   "outputs": [],
   "source": [
    "jupyter_simple_browse_tree(tree)"
   ]
  },
  {
   "cell_type": "code",
   "execution_count": null,
   "metadata": {},
   "outputs": [],
   "source": [
    "jupyter_browse_tree(tree)"
   ]
  },
  {
   "attachments": {},
   "cell_type": "markdown",
   "metadata": {},
   "source": []
  },
  {
   "cell_type": "code",
   "execution_count": null,
   "metadata": {},
   "outputs": [],
   "source": [
    "test=tree[\"Test\"][\"tools-driver-out\"][\"RAW\"][\"Z0.00135_He0.2499_ML1.90\"][\"M0.76\"][\"LOG(T)\"]\n",
    "test2=tree[\"Test\"][\"tools-isocrone-out\"][\"RID\"][\"Z0.00135_He0.2499_ML1.90\"][\"M0.76\"][\"Time\"]\n",
    "print(test)\n",
    "print(\"micio\")\n",
    "print(test2)\n"
   ]
  }
 ],
 "metadata": {
  "kernelspec": {
   "display_name": "Python 3",
   "language": "python",
   "name": "python3"
  },
  "language_info": {
   "codemirror_mode": {
    "name": "ipython",
    "version": 3
   },
   "file_extension": ".py",
   "mimetype": "text/x-python",
   "name": "python",
   "nbconvert_exporter": "python",
   "pygments_lexer": "ipython3",
   "version": "3.11.3"
  },
  "orig_nbformat": 4
 },
 "nbformat": 4,
 "nbformat_minor": 2
}
